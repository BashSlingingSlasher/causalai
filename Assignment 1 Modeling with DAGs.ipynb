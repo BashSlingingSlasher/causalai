{
 "cells": [
  {
   "cell_type": "markdown",
   "id": "ad1b6e7a",
   "metadata": {},
   "source": [
    "# Assignment 1: Modeling with DAGs"
   ]
  },
  {
   "cell_type": "markdown",
   "id": "64f47db1",
   "metadata": {},
   "source": [
    "**Andrew Lemke**"
   ]
  },
  {
   "cell_type": "code",
   "execution_count": 1,
   "id": "9465c322",
   "metadata": {},
   "outputs": [],
   "source": [
    "import pandas as pd\n",
    "from pgmpy.models import BayesianModel, BayesianNetwork\n",
    "from pgmpy.estimators import BayesianEstimator"
   ]
  },
  {
   "cell_type": "markdown",
   "id": "af12838e",
   "metadata": {},
   "source": [
    "## Loading the data\n",
    "\n",
    "The raw data comes in the form of a csv."
   ]
  },
  {
   "cell_type": "code",
   "execution_count": 2,
   "id": "e8da5b4d",
   "metadata": {},
   "outputs": [],
   "source": [
    "data_file = 'transportation_survey.txt'"
   ]
  },
  {
   "cell_type": "code",
   "execution_count": 3,
   "id": "7c9b8586",
   "metadata": {},
   "outputs": [],
   "source": [
    "raw_data = pd.read_csv(\n",
    "    data_file\n",
    ")"
   ]
  },
  {
   "cell_type": "code",
   "execution_count": 4,
   "id": "e0477f06",
   "metadata": {},
   "outputs": [
    {
     "data": {
      "text/html": [
       "<div>\n",
       "<style scoped>\n",
       "    .dataframe tbody tr th:only-of-type {\n",
       "        vertical-align: middle;\n",
       "    }\n",
       "\n",
       "    .dataframe tbody tr th {\n",
       "        vertical-align: top;\n",
       "    }\n",
       "\n",
       "    .dataframe thead th {\n",
       "        text-align: right;\n",
       "    }\n",
       "</style>\n",
       "<table border=\"1\" class=\"dataframe\">\n",
       "  <thead>\n",
       "    <tr style=\"text-align: right;\">\n",
       "      <th></th>\n",
       "      <th>A</th>\n",
       "      <th>S</th>\n",
       "      <th>E</th>\n",
       "      <th>O</th>\n",
       "      <th>R</th>\n",
       "      <th>T</th>\n",
       "    </tr>\n",
       "  </thead>\n",
       "  <tbody>\n",
       "    <tr>\n",
       "      <th>0</th>\n",
       "      <td>adult</td>\n",
       "      <td>F</td>\n",
       "      <td>high</td>\n",
       "      <td>emp</td>\n",
       "      <td>small</td>\n",
       "      <td>train</td>\n",
       "    </tr>\n",
       "    <tr>\n",
       "      <th>1</th>\n",
       "      <td>young</td>\n",
       "      <td>M</td>\n",
       "      <td>high</td>\n",
       "      <td>emp</td>\n",
       "      <td>big</td>\n",
       "      <td>car</td>\n",
       "    </tr>\n",
       "    <tr>\n",
       "      <th>2</th>\n",
       "      <td>adult</td>\n",
       "      <td>M</td>\n",
       "      <td>uni</td>\n",
       "      <td>emp</td>\n",
       "      <td>big</td>\n",
       "      <td>other</td>\n",
       "    </tr>\n",
       "    <tr>\n",
       "      <th>3</th>\n",
       "      <td>old</td>\n",
       "      <td>F</td>\n",
       "      <td>uni</td>\n",
       "      <td>emp</td>\n",
       "      <td>big</td>\n",
       "      <td>car</td>\n",
       "    </tr>\n",
       "    <tr>\n",
       "      <th>4</th>\n",
       "      <td>young</td>\n",
       "      <td>F</td>\n",
       "      <td>uni</td>\n",
       "      <td>emp</td>\n",
       "      <td>big</td>\n",
       "      <td>car</td>\n",
       "    </tr>\n",
       "    <tr>\n",
       "      <th>5</th>\n",
       "      <td>young</td>\n",
       "      <td>F</td>\n",
       "      <td>uni</td>\n",
       "      <td>emp</td>\n",
       "      <td>big</td>\n",
       "      <td>car</td>\n",
       "    </tr>\n",
       "    <tr>\n",
       "      <th>6</th>\n",
       "      <td>adult</td>\n",
       "      <td>F</td>\n",
       "      <td>high</td>\n",
       "      <td>emp</td>\n",
       "      <td>small</td>\n",
       "      <td>other</td>\n",
       "    </tr>\n",
       "    <tr>\n",
       "      <th>7</th>\n",
       "      <td>adult</td>\n",
       "      <td>F</td>\n",
       "      <td>high</td>\n",
       "      <td>emp</td>\n",
       "      <td>big</td>\n",
       "      <td>other</td>\n",
       "    </tr>\n",
       "    <tr>\n",
       "      <th>8</th>\n",
       "      <td>adult</td>\n",
       "      <td>M</td>\n",
       "      <td>high</td>\n",
       "      <td>emp</td>\n",
       "      <td>big</td>\n",
       "      <td>car</td>\n",
       "    </tr>\n",
       "    <tr>\n",
       "      <th>9</th>\n",
       "      <td>adult</td>\n",
       "      <td>M</td>\n",
       "      <td>high</td>\n",
       "      <td>emp</td>\n",
       "      <td>big</td>\n",
       "      <td>car</td>\n",
       "    </tr>\n",
       "  </tbody>\n",
       "</table>\n",
       "</div>"
      ],
      "text/plain": [
       "       A  S     E    O      R      T\n",
       "0  adult  F  high  emp  small  train\n",
       "1  young  M  high  emp    big    car\n",
       "2  adult  M   uni  emp    big  other\n",
       "3    old  F   uni  emp    big    car\n",
       "4  young  F   uni  emp    big    car\n",
       "5  young  F   uni  emp    big    car\n",
       "6  adult  F  high  emp  small  other\n",
       "7  adult  F  high  emp    big  other\n",
       "8  adult  M  high  emp    big    car\n",
       "9  adult  M  high  emp    big    car"
      ]
     },
     "execution_count": 4,
     "metadata": {},
     "output_type": "execute_result"
    }
   ],
   "source": [
    "raw_data.head(10)"
   ]
  },
  {
   "cell_type": "markdown",
   "id": "8452f11a",
   "metadata": {},
   "source": [
    "The default options for loading the csv worked well.\n",
    "\n",
    "## Building the DAG\n",
    "\n",
    "The variables in the model are:\n",
    "\n",
    "* **A**ge, young for those under 30, old for those over 60, and adult for those between young and old\n",
    "* **S**ex, the sex of the individual, M or F\n",
    "* **E**ducation, whether the individual completed high echool only (high) or has a university degree (uni)\n",
    "* **O**ccupation, (self) employed or (emp)loyee\n",
    "* **R**esidence, if the person lives in a (small) or (big) city\n",
    "* **T**ravel, the preferred means of travel of the individual\n",
    "\n",
    "#### DAG\n",
    "\n",
    "<div>\n",
    "<img src=\"Causalmodel.png\" width=\"200\"/>\n",
    "</div>"
   ]
  },
  {
   "cell_type": "code",
   "execution_count": 5,
   "id": "770605f4",
   "metadata": {},
   "outputs": [],
   "source": [
    "# the relationships are put in as pairs of source node to destination node\n",
    "model = BayesianNetwork(\n",
    "    [('A', 'E'), ('S', 'E'), ('E', 'O'), ('E', 'R'), ('O', 'T'), ('R', 'T')]\n",
    ")"
   ]
  },
  {
   "cell_type": "markdown",
   "id": "fc01453a",
   "metadata": {},
   "source": [
    "## Learning the conditional probabilities\n",
    "\n",
    "Since we do not have any priors to distribute on, we will use the `K2` prior type, which is a dirichlet distrobution with every pseudo count set to 1. If we had some other data to indicate some prior to distribute on (for example a similar dataset from another similar country) we could use it as a prior."
   ]
  },
  {
   "cell_type": "code",
   "execution_count": 6,
   "id": "360b0437",
   "metadata": {},
   "outputs": [],
   "source": [
    "estimator = BayesianEstimator(model, raw_data)"
   ]
  },
  {
   "cell_type": "code",
   "execution_count": 7,
   "id": "03518e8f",
   "metadata": {},
   "outputs": [],
   "source": [
    "# T is the node we desire the conditional probability distrobution on\n",
    "cpd_C = estimator.estimate_cpd('T', prior_type=\"K2\")"
   ]
  },
  {
   "cell_type": "code",
   "execution_count": 8,
   "id": "e4280f24",
   "metadata": {},
   "outputs": [
    {
     "name": "stdout",
     "output_type": "stream",
     "text": [
      "+----------+--------------------+-----+--------------------+----------+\n",
      "| O        | O(emp)             | ... | O(self)            | O(self)  |\n",
      "+----------+--------------------+-----+--------------------+----------+\n",
      "| R        | R(big)             | ... | R(big)             | R(small) |\n",
      "+----------+--------------------+-----+--------------------+----------+\n",
      "| T(car)   | 0.7007299270072993 | ... | 0.4166666666666667 | 0.5      |\n",
      "+----------+--------------------+-----+--------------------+----------+\n",
      "| T(other) | 0.1362530413625304 | ... | 0.3333333333333333 | 0.25     |\n",
      "+----------+--------------------+-----+--------------------+----------+\n",
      "| T(train) | 0.1630170316301703 | ... | 0.25               | 0.25     |\n",
      "+----------+--------------------+-----+--------------------+----------+\n"
     ]
    }
   ],
   "source": [
    "print(cpd_C)"
   ]
  },
  {
   "cell_type": "code",
   "execution_count": 9,
   "id": "ea6d3206",
   "metadata": {},
   "outputs": [
    {
     "name": "stdout",
     "output_type": "stream",
     "text": [
      "+----------+----------+\n",
      "| A(adult) | 0.387674 |\n",
      "+----------+----------+\n",
      "| A(old)   | 0.139165 |\n",
      "+----------+----------+\n",
      "| A(young) | 0.473161 |\n",
      "+----------+----------+\n",
      "+---------+---------------------+-----+---------------------+\n",
      "| A       | A(adult)            | ... | A(young)            |\n",
      "+---------+---------------------+-----+---------------------+\n",
      "| S       | S(F)                | ... | S(M)                |\n",
      "+---------+---------------------+-----+---------------------+\n",
      "| E(high) | 0.5185185185185185  | ... | 0.7642276422764228  |\n",
      "+---------+---------------------+-----+---------------------+\n",
      "| E(uni)  | 0.48148148148148145 | ... | 0.23577235772357724 |\n",
      "+---------+---------------------+-----+---------------------+\n",
      "+------+----------+\n",
      "| S(F) | 0.521912 |\n",
      "+------+----------+\n",
      "| S(M) | 0.478088 |\n",
      "+------+----------+\n",
      "+---------+---------------------+---------------------+\n",
      "| E       | E(high)             | E(uni)              |\n",
      "+---------+---------------------+---------------------+\n",
      "| O(emp)  | 0.9794520547945206  | 0.9716981132075472  |\n",
      "+---------+---------------------+---------------------+\n",
      "| O(self) | 0.02054794520547945 | 0.02830188679245283 |\n",
      "+---------+---------------------+---------------------+\n",
      "+----------+---------------------+--------------------+\n",
      "| E        | E(high)             | E(uni)             |\n",
      "+----------+---------------------+--------------------+\n",
      "| R(big)   | 0.7568493150684932  | 0.9339622641509434 |\n",
      "+----------+---------------------+--------------------+\n",
      "| R(small) | 0.24315068493150685 | 0.0660377358490566 |\n",
      "+----------+---------------------+--------------------+\n",
      "+----------+--------------------+-----+--------------------+----------+\n",
      "| O        | O(emp)             | ... | O(self)            | O(self)  |\n",
      "+----------+--------------------+-----+--------------------+----------+\n",
      "| R        | R(big)             | ... | R(big)             | R(small) |\n",
      "+----------+--------------------+-----+--------------------+----------+\n",
      "| T(car)   | 0.7007299270072993 | ... | 0.4166666666666667 | 0.5      |\n",
      "+----------+--------------------+-----+--------------------+----------+\n",
      "| T(other) | 0.1362530413625304 | ... | 0.3333333333333333 | 0.25     |\n",
      "+----------+--------------------+-----+--------------------+----------+\n",
      "| T(train) | 0.1630170316301703 | ... | 0.25               | 0.25     |\n",
      "+----------+--------------------+-----+--------------------+----------+\n"
     ]
    }
   ],
   "source": [
    "for x in estimator.get_parameters('K2'):\n",
    "    print(x)"
   ]
  },
  {
   "cell_type": "markdown",
   "id": "54fce519",
   "metadata": {},
   "source": [
    "The below cell is the last table in another form. The first row of the table above is the first of the three array sets below. The first line is `P(T=car | O=emp, R=big)`, `P(T=car | O=emp, R=Small)`, the next line is `P(T=car | O=self, R=big)`, `P(T=car | O=self, R=Small)`. \n",
    "\n",
    "The next two blocks are similar for other and train."
   ]
  },
  {
   "cell_type": "code",
   "execution_count": 10,
   "id": "cabe0096",
   "metadata": {},
   "outputs": [
    {
     "data": {
      "text/plain": [
       "array([[[0.70072993, 0.51764706],\n",
       "        [0.41666667, 0.5       ]],\n",
       "\n",
       "       [[0.13625304, 0.09411765],\n",
       "        [0.33333333, 0.25      ]],\n",
       "\n",
       "       [[0.16301703, 0.38823529],\n",
       "        [0.25      , 0.25      ]]])"
      ]
     },
     "execution_count": 10,
     "metadata": {},
     "output_type": "execute_result"
    }
   ],
   "source": [
    "cpd_C.values"
   ]
  },
  {
   "cell_type": "code",
   "execution_count": 11,
   "id": "e5ee7bd5",
   "metadata": {},
   "outputs": [
    {
     "data": {
      "text/plain": [
       "['T', 'O', 'R']"
      ]
     },
     "execution_count": 11,
     "metadata": {},
     "output_type": "execute_result"
    }
   ],
   "source": [
    "cpd_C.variables"
   ]
  },
  {
   "cell_type": "markdown",
   "id": "b810f05e",
   "metadata": {},
   "source": [
    "## Assessment Questions\n",
    "\n",
    "\n",
    "### 1. Which factorization is factorized along the DAG (Markov factorization).\n",
    "\n",
    "We look to the graph to find the answer. \n",
    "\n",
    "`p(A)(S) p(E|A, S) p(O|E)p(R|E) p(T|O, R)`\n",
    "\n",
    "\n",
    "### 2. Which is true about Node E (education):\n",
    "\n",
    "Again, the graph shows us the answer. The parents of E are A and S. The children (the outward edges) are E and R.\n",
    "\n",
    "### 3. Suppose we modify the network by removing the edge from E to O. Which local distributions (factors in the factorization) change?\n",
    "\n",
    "With parameter modularity, changes to one node's distobution do not change other nodes distrobutions. Here, the distrobutions are affected by a structural change to the graph. By removing edge EO, O becomes a root node--it's probability is no longer conditioned on E. This does not change the distrobution on E, as E is not conditioned on O. Even though R is conditioned on O, the change to O does not alter `p(T|O, R)` due to the parameter modularity. \n",
    "\n",
    "#### asdf\n",
    "> A categorical variable as three outcomes with probabilities p1, p2, and p3. You place a Dirichlet prior on these probabilities with concentration parameters 1, 1, and 1. In data with 20 observations you observe 10 instances of class 1, 2 instances of class 2, and 8 instances of class 3. What are the concentration parameters of the posterior.\n",
    "\n",
    "With a dirichlet prior of 1, 1, 1, we get a uniform prior. When we get new observations, we incorperate them.\n",
    "\n",
    "priors:\n",
    "```\n",
    "p1 = 1\n",
    "p2 = 1\n",
    "p3 = 1\n",
    "```\n",
    "\n",
    "With the new observations distrobuted on this prior,\n",
    "```\n",
    "p1 = 1 + 10\n",
    "p2 = 1 + 2\n",
    "p3 = 1 + 8\n",
    "```\n",
    "\n"
   ]
  },
  {
   "cell_type": "markdown",
   "id": "6785151c",
   "metadata": {},
   "source": [
    "## Resources\n",
    "\n",
    "* dirichlet\n",
    "    + https://www.youtube.com/watch?v=nfBNOWv1pgE\n",
    "    + https://www.youtube.com/watch?v=gWgsKyEjclw\n",
    "* pgmpy \n",
    "    + https://pgmpy.org/models/bayesiannetwork.html\n",
    "    + https://pgmpy.org/param_estimator/bayesian_est.html\n",
    "    + https://pgmpy.org/factors/discrete.html#module-pgmpy.factors.discrete.JointProbabilityDistribution\n",
    "    + https://pgmpy.org/examples/Learning%20Parameters%20in%20Discrete%20Bayesian%20Networks.html"
   ]
  }
 ],
 "metadata": {
  "kernelspec": {
   "display_name": "Python 3 (ipykernel)",
   "language": "python",
   "name": "python3"
  },
  "language_info": {
   "codemirror_mode": {
    "name": "ipython",
    "version": 3
   },
   "file_extension": ".py",
   "mimetype": "text/x-python",
   "name": "python",
   "nbconvert_exporter": "python",
   "pygments_lexer": "ipython3",
   "version": "3.9.12"
  }
 },
 "nbformat": 4,
 "nbformat_minor": 5
}
